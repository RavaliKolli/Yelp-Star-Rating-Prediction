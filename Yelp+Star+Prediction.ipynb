{
 "cells": [
  {
   "cell_type": "markdown",
   "metadata": {},
   "source": [
    "## Yelp Business Rating Prediction using Pandas and Sklearn"
   ]
  },
  {
   "cell_type": "code",
   "execution_count": 1,
   "metadata": {
    "collapsed": true
   },
   "outputs": [],
   "source": [
    "#importing datasets\n",
    "import pandas as pd\n",
    "import os\n",
    "import json\n",
    "\n",
    "business=[]\n",
    "with open('yelp_academic_dataset_business.json') as f:\n",
    "    for line in f:\n",
    "        business.append(json.loads(line))\n",
    "business_df=pd.DataFrame.from_dict(business)\n",
    "\n",
    "reviews=[]\n",
    "with open('yelp_academic_dataset_review.json') as f:\n",
    "    for line in f:\n",
    "        reviews.append(json.loads(line))\n",
    "reviews_df=pd.DataFrame.from_dict(reviews)"
   ]
  },
  {
   "cell_type": "markdown",
   "metadata": {},
   "source": [
    "## Data Preprocessing and Exploration"
   ]
  },
  {
   "cell_type": "code",
   "execution_count": 2,
   "metadata": {},
   "outputs": [
    {
     "name": "stdout",
     "output_type": "stream",
     "text": [
      "(188593, 15)\n",
      "(5996996, 9)\n"
     ]
    }
   ],
   "source": [
    "#know the shape of dataframes\n",
    "print(business_df.shape)\n",
    "print(reviews_df.shape)"
   ]
  },
  {
   "cell_type": "code",
   "execution_count": 3,
   "metadata": {
    "collapsed": true
   },
   "outputs": [],
   "source": [
    "#to display the whole dataframe width\n",
    "pd.set_option('display.max_colwidth',-1)"
   ]
  },
  {
   "cell_type": "code",
   "execution_count": 4,
   "metadata": {},
   "outputs": [
    {
     "name": "stdout",
     "output_type": "stream",
     "text": [
      "Index(['address', 'attributes', 'business_id', 'categories', 'city', 'hours',\n",
      "       'is_open', 'latitude', 'longitude', 'name', 'neighborhood',\n",
      "       'postal_code', 'review_count', 'stars', 'state'],\n",
      "      dtype='object')\n",
      "Index(['business_id', 'cool', 'date', 'funny', 'review_id', 'stars', 'text',\n",
      "       'useful', 'user_id'],\n",
      "      dtype='object')\n"
     ]
    }
   ],
   "source": [
    "#dataframe columns\n",
    "print(business_df.columns)\n",
    "print(reviews_df.columns)"
   ]
  },
  {
   "cell_type": "code",
   "execution_count": 5,
   "metadata": {},
   "outputs": [
    {
     "data": {
      "text/html": [
       "<div>\n",
       "<style scoped>\n",
       "    .dataframe tbody tr th:only-of-type {\n",
       "        vertical-align: middle;\n",
       "    }\n",
       "\n",
       "    .dataframe tbody tr th {\n",
       "        vertical-align: top;\n",
       "    }\n",
       "\n",
       "    .dataframe thead th {\n",
       "        text-align: right;\n",
       "    }\n",
       "</style>\n",
       "<table border=\"1\" class=\"dataframe\">\n",
       "  <thead>\n",
       "    <tr style=\"text-align: right;\">\n",
       "      <th></th>\n",
       "      <th>address</th>\n",
       "      <th>attributes</th>\n",
       "      <th>business_id</th>\n",
       "      <th>categories</th>\n",
       "      <th>city</th>\n",
       "      <th>hours</th>\n",
       "      <th>is_open</th>\n",
       "      <th>latitude</th>\n",
       "      <th>longitude</th>\n",
       "      <th>name</th>\n",
       "      <th>neighborhood</th>\n",
       "      <th>postal_code</th>\n",
       "      <th>review_count</th>\n",
       "      <th>stars</th>\n",
       "      <th>state</th>\n",
       "    </tr>\n",
       "  </thead>\n",
       "  <tbody>\n",
       "    <tr>\n",
       "      <th>0</th>\n",
       "      <td>1314 44 Avenue NE</td>\n",
       "      <td>{'BikeParking': 'False', 'BusinessAcceptsCreditCards': 'True', 'BusinessParking': '{'garage': False, 'street': True, 'validated': False, 'lot': False, 'valet': False}', 'GoodForKids': 'True', 'HasTV': 'True', 'NoiseLevel': 'average', 'OutdoorSeating': 'False', 'RestaurantsAttire': 'casual', 'RestaurantsDelivery': 'False', 'RestaurantsGoodForGroups': 'True', 'RestaurantsPriceRange2': '2', 'RestaurantsReservations': 'True', 'RestaurantsTakeOut': 'True'}</td>\n",
       "      <td>Apn5Q_b6Nz61Tq4XzPdf9A</td>\n",
       "      <td>Tours, Breweries, Pizza, Restaurants, Food, Hotels &amp; Travel</td>\n",
       "      <td>Calgary</td>\n",
       "      <td>{'Monday': '8:30-17:0', 'Tuesday': '11:0-21:0', 'Wednesday': '11:0-21:0', 'Thursday': '11:0-21:0', 'Friday': '11:0-21:0', 'Saturday': '11:0-21:0'}</td>\n",
       "      <td>1</td>\n",
       "      <td>51.091813</td>\n",
       "      <td>-114.031675</td>\n",
       "      <td>Minhas Micro Brewery</td>\n",
       "      <td></td>\n",
       "      <td>T2E 6L6</td>\n",
       "      <td>24</td>\n",
       "      <td>4.0</td>\n",
       "      <td>AB</td>\n",
       "    </tr>\n",
       "  </tbody>\n",
       "</table>\n",
       "</div>"
      ],
      "text/plain": [
       "             address  \\\n",
       "0  1314 44 Avenue NE   \n",
       "\n",
       "                                                                                                                                                                                                                                                                                                                                                                                                                                                                attributes  \\\n",
       "0  {'BikeParking': 'False', 'BusinessAcceptsCreditCards': 'True', 'BusinessParking': '{'garage': False, 'street': True, 'validated': False, 'lot': False, 'valet': False}', 'GoodForKids': 'True', 'HasTV': 'True', 'NoiseLevel': 'average', 'OutdoorSeating': 'False', 'RestaurantsAttire': 'casual', 'RestaurantsDelivery': 'False', 'RestaurantsGoodForGroups': 'True', 'RestaurantsPriceRange2': '2', 'RestaurantsReservations': 'True', 'RestaurantsTakeOut': 'True'}   \n",
       "\n",
       "              business_id  \\\n",
       "0  Apn5Q_b6Nz61Tq4XzPdf9A   \n",
       "\n",
       "                                                    categories     city  \\\n",
       "0  Tours, Breweries, Pizza, Restaurants, Food, Hotels & Travel  Calgary   \n",
       "\n",
       "                                                                                                                                                hours  \\\n",
       "0  {'Monday': '8:30-17:0', 'Tuesday': '11:0-21:0', 'Wednesday': '11:0-21:0', 'Thursday': '11:0-21:0', 'Friday': '11:0-21:0', 'Saturday': '11:0-21:0'}   \n",
       "\n",
       "   is_open   latitude   longitude                  name neighborhood  \\\n",
       "0  1        51.091813 -114.031675  Minhas Micro Brewery                \n",
       "\n",
       "  postal_code  review_count  stars state  \n",
       "0  T2E 6L6     24            4.0    AB    "
      ]
     },
     "execution_count": 5,
     "metadata": {},
     "output_type": "execute_result"
    }
   ],
   "source": [
    "#overview of business dataframe\n",
    "business_df.head(1)"
   ]
  },
  {
   "cell_type": "code",
   "execution_count": 6,
   "metadata": {},
   "outputs": [
    {
     "data": {
      "text/html": [
       "<div>\n",
       "<style scoped>\n",
       "    .dataframe tbody tr th:only-of-type {\n",
       "        vertical-align: middle;\n",
       "    }\n",
       "\n",
       "    .dataframe tbody tr th {\n",
       "        vertical-align: top;\n",
       "    }\n",
       "\n",
       "    .dataframe thead th {\n",
       "        text-align: right;\n",
       "    }\n",
       "</style>\n",
       "<table border=\"1\" class=\"dataframe\">\n",
       "  <thead>\n",
       "    <tr style=\"text-align: right;\">\n",
       "      <th></th>\n",
       "      <th>business_id</th>\n",
       "      <th>cool</th>\n",
       "      <th>date</th>\n",
       "      <th>funny</th>\n",
       "      <th>review_id</th>\n",
       "      <th>stars</th>\n",
       "      <th>text</th>\n",
       "      <th>useful</th>\n",
       "      <th>user_id</th>\n",
       "    </tr>\n",
       "  </thead>\n",
       "  <tbody>\n",
       "    <tr>\n",
       "      <th>0</th>\n",
       "      <td>iCQpiavjjPzJ5_3gPD5Ebg</td>\n",
       "      <td>0</td>\n",
       "      <td>2011-02-25</td>\n",
       "      <td>0</td>\n",
       "      <td>x7mDIiDB3jEiPGPHOmDzyw</td>\n",
       "      <td>2</td>\n",
       "      <td>The pizza was okay. Not the best I've had. I prefer Biaggio's on Flamingo / Fort Apache. The chef there can make a MUCH better NY style pizza. The pizzeria @ Cosmo was over priced for the quality and lack of personality in the food. Biaggio's is a much better pick if youre going for italian - family owned, home made recipes, people that actually CARE if you like their food. You dont get that at a pizzeria in a casino. I dont care what you say...</td>\n",
       "      <td>0</td>\n",
       "      <td>msQe1u7Z_XuqjGoqhB0J5g</td>\n",
       "    </tr>\n",
       "  </tbody>\n",
       "</table>\n",
       "</div>"
      ],
      "text/plain": [
       "              business_id  cool        date  funny               review_id  \\\n",
       "0  iCQpiavjjPzJ5_3gPD5Ebg  0     2011-02-25  0      x7mDIiDB3jEiPGPHOmDzyw   \n",
       "\n",
       "   stars  \\\n",
       "0  2       \n",
       "\n",
       "                                                                                                                                                                                                                                                                                                                                                                                                                                                                text  \\\n",
       "0  The pizza was okay. Not the best I've had. I prefer Biaggio's on Flamingo / Fort Apache. The chef there can make a MUCH better NY style pizza. The pizzeria @ Cosmo was over priced for the quality and lack of personality in the food. Biaggio's is a much better pick if youre going for italian - family owned, home made recipes, people that actually CARE if you like their food. You dont get that at a pizzeria in a casino. I dont care what you say...   \n",
       "\n",
       "   useful                 user_id  \n",
       "0  0       msQe1u7Z_XuqjGoqhB0J5g  "
      ]
     },
     "execution_count": 6,
     "metadata": {},
     "output_type": "execute_result"
    }
   ],
   "source": [
    "#overview of reviews dataframe\n",
    "reviews_df.head(1)"
   ]
  },
  {
   "cell_type": "code",
   "execution_count": 7,
   "metadata": {},
   "outputs": [
    {
     "data": {
      "text/plain": [
       "business_id    object\n",
       "cool           int64 \n",
       "date           object\n",
       "funny          int64 \n",
       "review_id      object\n",
       "stars          int64 \n",
       "text           object\n",
       "useful         int64 \n",
       "user_id        object\n",
       "dtype: object"
      ]
     },
     "execution_count": 7,
     "metadata": {},
     "output_type": "execute_result"
    }
   ],
   "source": [
    "#to know datatypes of each column in reviews\n",
    "reviews_df.dtypes"
   ]
  },
  {
   "cell_type": "code",
   "execution_count": 8,
   "metadata": {
    "scrolled": false
   },
   "outputs": [
    {
     "data": {
      "text/plain": [
       "address         0    \n",
       "attributes      25786\n",
       "business_id     0    \n",
       "categories      541  \n",
       "city            0    \n",
       "hours           44802\n",
       "is_open         0    \n",
       "latitude        6    \n",
       "longitude       6    \n",
       "name            0    \n",
       "neighborhood    0    \n",
       "postal_code     0    \n",
       "review_count    0    \n",
       "stars           0    \n",
       "state           0    \n",
       "dtype: int64"
      ]
     },
     "execution_count": 8,
     "metadata": {},
     "output_type": "execute_result"
    }
   ],
   "source": [
    "#checking each column to know how many null values business dataframe has\n",
    "business_df.isnull().sum()"
   ]
  },
  {
   "cell_type": "code",
   "execution_count": 9,
   "metadata": {},
   "outputs": [
    {
     "data": {
      "text/plain": [
       "business_id    0\n",
       "cool           0\n",
       "date           0\n",
       "funny          0\n",
       "review_id      0\n",
       "stars          0\n",
       "text           0\n",
       "useful         0\n",
       "user_id        0\n",
       "dtype: int64"
      ]
     },
     "execution_count": 9,
     "metadata": {},
     "output_type": "execute_result"
    }
   ],
   "source": [
    "#checking each column to know how many null values reviews dataframe has\n",
    "reviews_df.isnull().sum()"
   ]
  },
  {
   "cell_type": "code",
   "execution_count": 10,
   "metadata": {
    "collapsed": true
   },
   "outputs": [],
   "source": [
    "#code to group all the reviews by each business\n",
    "review_df_agg=reviews_df.groupby('business_id')['text'].sum()"
   ]
  },
  {
   "cell_type": "code",
   "execution_count": 11,
   "metadata": {
    "collapsed": true
   },
   "outputs": [],
   "source": [
    "#renaming the columns business_id for index and all_reviews for all aggregated reviews\n",
    "review_df_for_sklearn=pd.DataFrame({'business_id':review_df_agg.index,'all_reviews':review_df_agg.values})"
   ]
  },
  {
   "cell_type": "code",
   "execution_count": 12,
   "metadata": {
    "collapsed": true
   },
   "outputs": [],
   "source": [
    "#Merging both reviews and business dataframes on column business_id as it the unique and common column for both dataframes\n",
    "review_business=pd.merge(review_df_for_sklearn,business_df,on='business_id',how='left')"
   ]
  },
  {
   "cell_type": "code",
   "execution_count": 13,
   "metadata": {},
   "outputs": [
    {
     "data": {
      "text/plain": [
       "(188593, 16)"
      ]
     },
     "execution_count": 13,
     "metadata": {},
     "output_type": "execute_result"
    }
   ],
   "source": [
    "#checking the shape of merged dataframe\n",
    "review_business.shape"
   ]
  },
  {
   "cell_type": "code",
   "execution_count": 14,
   "metadata": {},
   "outputs": [
    {
     "name": "stdout",
     "output_type": "stream",
     "text": [
      "(18859, 16)\n"
     ]
    }
   ],
   "source": [
    "#taking the sample of  10% from the whole dataframe \n",
    "review_business_sample=review_business.sample(frac=.10)\n",
    "print(review_business_sample.shape)"
   ]
  },
  {
   "cell_type": "code",
   "execution_count": 15,
   "metadata": {},
   "outputs": [
    {
     "data": {
      "text/html": [
       "<div>\n",
       "<style scoped>\n",
       "    .dataframe tbody tr th:only-of-type {\n",
       "        vertical-align: middle;\n",
       "    }\n",
       "\n",
       "    .dataframe tbody tr th {\n",
       "        vertical-align: top;\n",
       "    }\n",
       "\n",
       "    .dataframe thead th {\n",
       "        text-align: right;\n",
       "    }\n",
       "</style>\n",
       "<table border=\"1\" class=\"dataframe\">\n",
       "  <thead>\n",
       "    <tr style=\"text-align: right;\">\n",
       "      <th></th>\n",
       "      <th>business_id</th>\n",
       "      <th>all_reviews</th>\n",
       "      <th>address</th>\n",
       "      <th>attributes</th>\n",
       "      <th>categories</th>\n",
       "      <th>city</th>\n",
       "      <th>hours</th>\n",
       "      <th>is_open</th>\n",
       "      <th>latitude</th>\n",
       "      <th>longitude</th>\n",
       "      <th>name</th>\n",
       "      <th>neighborhood</th>\n",
       "      <th>postal_code</th>\n",
       "      <th>review_count</th>\n",
       "      <th>stars</th>\n",
       "      <th>state</th>\n",
       "    </tr>\n",
       "  </thead>\n",
       "  <tbody>\n",
       "    <tr>\n",
       "      <th>158380</th>\n",
       "      <td>pgvv3Fi0HiD0ateqLcqyZQ</td>\n",
       "      <td>Wonderful breakfast café! My family and I come every Sunday! Great food, staff, and service!Been wanting to check this place out for quite some time.  First time yesterday, Aug 24, wife and I went there for breakfast.\\nI ordered the country fried steak and eggs...most expensive item on menu, $12.49.   New York steak &amp; eggs cheaper.\\nNot a good deal.  Flavor was very poor.  Gravy had no flavor at all!!  Very disappointing.  Most  flavorful was the Smuckers jelly.\\nOne waiter who was obviously overwhelmed with 5 tables!\\nWon't be going back!I really love the selection here! The sweet potato pancakes are my favorite indulgence here! I also got an egg white omelette that had  goat cheese, spinach, and sun dried tomatoes in it!  It was absolutely amazing! You really can't go wrong at this breakfast/lunch spot because it has a homey feel and something on the menu that everyone can enjoy. Love this placeI have eaten her 4 time, its a family or neighborhood kind of place.  \\nI take my business clients here an the just love the food and the friendly\\natmosphere.  The food is cooked to order.I love this place! Never felt more at home at a restaurant... The food is incredible! I loved the chicken and waffles! Service was great and servers were very personable. I will definitely be back!My family and I went to eat breakfast there this morning and we were all very impressed! The food was amazing. Things like chicken enchilada omelette, the best burger. They make their own ground beef! The chef Andre is fantastic. Reasonable prices, especially for the quality of the food. We will definitely be back!!Great staff! Great food! Comfortable environment! You should try the homemade pancakes! They are delicious! My husband had the protein omelet and he liked that tooMan what services and , homely first name bases makes it so AWSOME , what a diamond in the ruff this place is a MUSTI've eaten breakfast here a few times. It is always fresh and the menu offers a lot of variety.  The service is great - super friendly and helpful.  \\nA MUST if you want fresh, yummy and casual atmosphere!My 1st visit here. Grabbing a quick brunch with my adult daughter, son, &amp; daughter in law. Cheerful  service, flexible menu, comfortable seating. Bright well-lit dining area. Our server said their lunch specialty was burgers, &amp; that they ground their own meat&amp; the burgers were tender &amp; juicy.\\nI, however am not a burger person, so I ordered the BLTA with sweet potato fries. It was delish!\\nAwaiting their meals now....\\nmmmmm, looks, smells &amp; apparently tastes great! The teriyaki grilled chicken w/ side of fruit, a winner, as were the scrambled eggs &amp; pancakes. All cooked to perfection!I eat at restaurants every morning. With the over rated Cracked Eggs of the world and a myriad of chains saturating the city, it is hard to find a homey place that serves good food. Well I found it. Sun City Cafe is an unexpected pleasure. The fruit is cut fresh every day. The omelets are all delicious. The orange pancakes are surprisingly tasty. The gem is the sweet potato waffle, naturally sweetened by the sweet potato, it is both healthier and tastier than any waffle I have eaten.. The service is fantastic. When an error was made, they were quick to fix it. They also made sure I did not pay. Terrific food at a fair price, where they make you feel at home. Highly recommended.It our first time being at this cafe and its great, food selections are amazing and I really liked my \"chicken n waffles\" and my wife loved her breakfast wrap, I will definitely come here again.This was our second visit to Sun City cafe. It only got better the second time around.  We all had breakfast and the service was attentive and friendly and the food so far a cut above any other better known places for breakfast in the area.\\n\\nSince Sun City is a retirement community so all of the items have mild salsa since most seniors don't like spicy food.   But there spicy salsa was divine.   I had the jalapeno omelet and we also had pancakes and another omelet.   Everything was made fresh, served hot and with warm friendly service.  Ask for the spicy salsa on the side or tell them to make it spicy.\\n\\nForget Babystacks, The Cracked Egg and IHOP or denny's.  This is the place to go. The menu is large, breakfast is served all day and you can actually sense the pride they have.  It seems family run but I could be wrong.  They even stock flavored creamers and will ask you which ones you want.  the coffee was nothing to brag about though.  \\n\\nThey have inside and outdoor seating, lots of parking and yes even golf cart accessible.\\n\\nThis will become our standard place when we want to go out for breakfast.  We will have to try their lunches next.Another 3.5-4* kinda place IMO, bumped up because the service is stellar and my folks and their posse are regulars. Nestled in a quiet car park in Sun City Summerlin, the Cafe serves up tasty breakfast and lunch offerings with specials daily. Service is what bumped the rating up, the staff is friendly and super kind. \\n\\nThe dining room is welcoming and there's even a few tables outside for mild weather dining. Breakfast/brunch is the most popular time to hit them up, but there's never a long wait as in many nearby hotspots. Prices are super reasonable and they split checks without breaking balls =) \\n\\nAside from the \"Mom and Pop\" vibe, the things I most appreciate are the variety of offerings (eggs, pancakes, French toast, burgers, soups, salads and sandwiches...) and their patience with Senior diners. Also, their fruit is very fresh, and that is a big plus for me as many places offer abysmal fruit.\\n\\nSo, while they aren't going to win any culinary or design innovation awards, it is quite a solid choice to chow down without the chaos of other similar venues.Decent at best. Got pulled into this place because it had 5 stars. Turns out it was only reviewed by one user (probably the owner). I'm fixing that. Not a bad place but not a great one either. Probably on the lower end of the spectrum.Most of our hiking group got together on Friday for breakfast and Sun City Café was recommended by one of our group who had been here and they knew they could handle a group our size (11 or 13 this time--I didn't take roll).\\n\\nThe server was good enough to ask if we wanted separate checks and he did that for each and every one of us--above and beyond!  \\n\\nI ordered the special of the day which was a Tex/Mex kind of omelette made with pulled pork and topped with salsa verde and some tortilla strips.  You had a choice of hash browns or breakfast potatoes with onions and peppers.  I went with the breakfast potatoes.  Some in the group subbed fresh fruit for potato and toast.  I had rye toast.\\n\\nThe omelette was OK.  Even though the kitchen was busy with our orders and the other customers, the wait was not long.  It wouldn't have mattered as we were engaged in good conversation and much kidding.  \\n\\nThe restaurant is a very pleasant place and I'm sure I'll be back in the future.  There were some pancakes on the menu that sounded great!Having trouble finding a great brunch place with no lines?\\n\\nThis place is never crowded, even at peak weekend brunch times.  And everything we've had was delicious - they even make an awesome chicken fried steak.  Would highly recommend for anyone like us with toddlers in tow who can't stand long waits.Underrated cafe...\\n\\nSun City Cafe is located in the retirement community of Sun City along Del Webb Blvd in Summerlin.\\n\\nLas Vegas has an interesting array of cafés, ranging from the outlandish to the plain old dumpster dive that you would see on Tv getting closed down. Sun City Cafe is neither outlandish nor a a dump. This is your local cafe that mom and pop would come to.\\n\\nThe times that I have come here I've never had a single complaint. The service is always great, the staff have always been friendly and kind. Comparing to cafés cracked egg etc lines are usually non existent, except Maybe on Sunday afternoons, there are quite a few churches in Sun City.\\n\\nThe recommendations from here would be the French Toast, I found it to be quite tasty. General menu items have a variety of options on the menu from Burgers to vegetarian meals. I never did see a stand out or signature dish that screamed off the page but the menu has something for everyone. Decent service, with decent food.\\n\\nOverall \\nPrice: $$\\nFood: 3-5\\nDrink: 3-5\\nCome back: yesSun City Cafe is one of the best spots in Las Vegas. The service is very fast the food is delicious and very creative. You can get all types of genre in food with Sun City Cafe. From healthy vegetarian to meat eating lovers. It has a mix of Spanish food, Asian cuisin,e and of course good ole American burgers. You can never go wrong with Sun City Cafe!LOVE this place! This is hands down my favorite spot for a weekend brunch. With great food, extremely friendly staff, and a pet-friendly patio, this is a weekend staple!Good food, clean, friendly , medium wait  time. Good semi quiet atmosphere. Can't go wrong here. !!Awesome mom and pops joint! Great service! Not to mention the food was amazing. I am a Vegan and they completely customized my meal to cater to my needs. I will definitely be back! Check it out :-)Costco business center food.  Just your very basic breakfast at a decent price.</td>\n",
       "      <td>9320 Sun City Blvd, Ste 101</td>\n",
       "      <td>{'Alcohol': 'none', 'Ambience': '{'romantic': False, 'intimate': False, 'classy': False, 'hipster': False, 'divey': False, 'touristy': False, 'trendy': False, 'upscale': False, 'casual': True}', 'BikeParking': 'False', 'BusinessAcceptsCreditCards': 'True', 'BusinessParking': '{'garage': False, 'street': False, 'validated': False, 'lot': True, 'valet': False}', 'GoodForKids': 'True', 'GoodForMeal': '{'dessert': False, 'latenight': False, 'lunch': False, 'dinner': False, 'breakfast': True, 'brunch': False}', 'HasTV': 'False', 'NoiseLevel': 'average', 'OutdoorSeating': 'True', 'RestaurantsAttire': 'casual', 'RestaurantsDelivery': 'False', 'RestaurantsGoodForGroups': 'True', 'RestaurantsPriceRange2': '1', 'RestaurantsReservations': 'False', 'RestaurantsTableService': 'True', 'RestaurantsTakeOut': 'True', 'WiFi': 'free'}</td>\n",
       "      <td>Breakfast &amp; Brunch, Restaurants</td>\n",
       "      <td>Las Vegas</td>\n",
       "      <td>None</td>\n",
       "      <td>0</td>\n",
       "      <td>36.211716</td>\n",
       "      <td>-115.298329</td>\n",
       "      <td>Sun City Café</td>\n",
       "      <td>Summerlin</td>\n",
       "      <td>89134</td>\n",
       "      <td>23</td>\n",
       "      <td>4.0</td>\n",
       "      <td>NV</td>\n",
       "    </tr>\n",
       "  </tbody>\n",
       "</table>\n",
       "</div>"
      ],
      "text/plain": [
       "                   business_id  \\\n",
       "158380  pgvv3Fi0HiD0ateqLcqyZQ   \n",
       "\n",
       "                                                                                                                                                                                                                                                                                                                                                                                                                                                                                                                                                                                                                                                                                                                                                                                                                                                                                                                                                                                                                                                                                                                                                                                                                                                                                                                                                                                                                                                                                                                                                                                                                                                                                                                                                                                                                                                                                                                                                                                                                                                                                                                                                                                                                                                                                                                                                                                                                                                                                                                                                                                                                                                                                                                                                                                                                                                                                                                                                                                                                                                                                                                                                                                                                                                                                                                                                                                                                                                                                                                                                                                                                                                                                                                                                                                                                                                                                                                                                                                                                                                                                                                                                                                                                                                                                                                                                                                                                                                                                                                                                                                                                                                                                                                                                                                                                                                                                                                                                                                                                                                                                                                                                                                                                                                                                                                                                                                                                                                                                                                                                                                                                                                                                                                                                                                                                                                                                                                                                                                                                                                                                                                                                                                                                                                                                                                                                                                                                                                                                                                                                                                                                                                                                                                                                                                                                                                                                                                                                                                                                                                                                                                                                                                                                                                                                                                                                                                                                                                                                                                                                                                                                                                                                                                                                                                                                                                                                                                                                                                                                                                                                                                                                                                                                                                                                                                                                                                                                                                                                                                                                                                                                                                                                                                                                                                                                                                                                                                                                                                                                                                                                                                                                                                                                                                                                                                                                                                                                                                                                                                                                                                                                                                                                                                                              all_reviews  \\\n",
       "158380  Wonderful breakfast café! My family and I come every Sunday! Great food, staff, and service!Been wanting to check this place out for quite some time.  First time yesterday, Aug 24, wife and I went there for breakfast.\\nI ordered the country fried steak and eggs...most expensive item on menu, $12.49.   New York steak & eggs cheaper.\\nNot a good deal.  Flavor was very poor.  Gravy had no flavor at all!!  Very disappointing.  Most  flavorful was the Smuckers jelly.\\nOne waiter who was obviously overwhelmed with 5 tables!\\nWon't be going back!I really love the selection here! The sweet potato pancakes are my favorite indulgence here! I also got an egg white omelette that had  goat cheese, spinach, and sun dried tomatoes in it!  It was absolutely amazing! You really can't go wrong at this breakfast/lunch spot because it has a homey feel and something on the menu that everyone can enjoy. Love this placeI have eaten her 4 time, its a family or neighborhood kind of place.  \\nI take my business clients here an the just love the food and the friendly\\natmosphere.  The food is cooked to order.I love this place! Never felt more at home at a restaurant... The food is incredible! I loved the chicken and waffles! Service was great and servers were very personable. I will definitely be back!My family and I went to eat breakfast there this morning and we were all very impressed! The food was amazing. Things like chicken enchilada omelette, the best burger. They make their own ground beef! The chef Andre is fantastic. Reasonable prices, especially for the quality of the food. We will definitely be back!!Great staff! Great food! Comfortable environment! You should try the homemade pancakes! They are delicious! My husband had the protein omelet and he liked that tooMan what services and , homely first name bases makes it so AWSOME , what a diamond in the ruff this place is a MUSTI've eaten breakfast here a few times. It is always fresh and the menu offers a lot of variety.  The service is great - super friendly and helpful.  \\nA MUST if you want fresh, yummy and casual atmosphere!My 1st visit here. Grabbing a quick brunch with my adult daughter, son, & daughter in law. Cheerful  service, flexible menu, comfortable seating. Bright well-lit dining area. Our server said their lunch specialty was burgers, & that they ground their own meat& the burgers were tender & juicy.\\nI, however am not a burger person, so I ordered the BLTA with sweet potato fries. It was delish!\\nAwaiting their meals now....\\nmmmmm, looks, smells & apparently tastes great! The teriyaki grilled chicken w/ side of fruit, a winner, as were the scrambled eggs & pancakes. All cooked to perfection!I eat at restaurants every morning. With the over rated Cracked Eggs of the world and a myriad of chains saturating the city, it is hard to find a homey place that serves good food. Well I found it. Sun City Cafe is an unexpected pleasure. The fruit is cut fresh every day. The omelets are all delicious. The orange pancakes are surprisingly tasty. The gem is the sweet potato waffle, naturally sweetened by the sweet potato, it is both healthier and tastier than any waffle I have eaten.. The service is fantastic. When an error was made, they were quick to fix it. They also made sure I did not pay. Terrific food at a fair price, where they make you feel at home. Highly recommended.It our first time being at this cafe and its great, food selections are amazing and I really liked my \"chicken n waffles\" and my wife loved her breakfast wrap, I will definitely come here again.This was our second visit to Sun City cafe. It only got better the second time around.  We all had breakfast and the service was attentive and friendly and the food so far a cut above any other better known places for breakfast in the area.\\n\\nSince Sun City is a retirement community so all of the items have mild salsa since most seniors don't like spicy food.   But there spicy salsa was divine.   I had the jalapeno omelet and we also had pancakes and another omelet.   Everything was made fresh, served hot and with warm friendly service.  Ask for the spicy salsa on the side or tell them to make it spicy.\\n\\nForget Babystacks, The Cracked Egg and IHOP or denny's.  This is the place to go. The menu is large, breakfast is served all day and you can actually sense the pride they have.  It seems family run but I could be wrong.  They even stock flavored creamers and will ask you which ones you want.  the coffee was nothing to brag about though.  \\n\\nThey have inside and outdoor seating, lots of parking and yes even golf cart accessible.\\n\\nThis will become our standard place when we want to go out for breakfast.  We will have to try their lunches next.Another 3.5-4* kinda place IMO, bumped up because the service is stellar and my folks and their posse are regulars. Nestled in a quiet car park in Sun City Summerlin, the Cafe serves up tasty breakfast and lunch offerings with specials daily. Service is what bumped the rating up, the staff is friendly and super kind. \\n\\nThe dining room is welcoming and there's even a few tables outside for mild weather dining. Breakfast/brunch is the most popular time to hit them up, but there's never a long wait as in many nearby hotspots. Prices are super reasonable and they split checks without breaking balls =) \\n\\nAside from the \"Mom and Pop\" vibe, the things I most appreciate are the variety of offerings (eggs, pancakes, French toast, burgers, soups, salads and sandwiches...) and their patience with Senior diners. Also, their fruit is very fresh, and that is a big plus for me as many places offer abysmal fruit.\\n\\nSo, while they aren't going to win any culinary or design innovation awards, it is quite a solid choice to chow down without the chaos of other similar venues.Decent at best. Got pulled into this place because it had 5 stars. Turns out it was only reviewed by one user (probably the owner). I'm fixing that. Not a bad place but not a great one either. Probably on the lower end of the spectrum.Most of our hiking group got together on Friday for breakfast and Sun City Café was recommended by one of our group who had been here and they knew they could handle a group our size (11 or 13 this time--I didn't take roll).\\n\\nThe server was good enough to ask if we wanted separate checks and he did that for each and every one of us--above and beyond!  \\n\\nI ordered the special of the day which was a Tex/Mex kind of omelette made with pulled pork and topped with salsa verde and some tortilla strips.  You had a choice of hash browns or breakfast potatoes with onions and peppers.  I went with the breakfast potatoes.  Some in the group subbed fresh fruit for potato and toast.  I had rye toast.\\n\\nThe omelette was OK.  Even though the kitchen was busy with our orders and the other customers, the wait was not long.  It wouldn't have mattered as we were engaged in good conversation and much kidding.  \\n\\nThe restaurant is a very pleasant place and I'm sure I'll be back in the future.  There were some pancakes on the menu that sounded great!Having trouble finding a great brunch place with no lines?\\n\\nThis place is never crowded, even at peak weekend brunch times.  And everything we've had was delicious - they even make an awesome chicken fried steak.  Would highly recommend for anyone like us with toddlers in tow who can't stand long waits.Underrated cafe...\\n\\nSun City Cafe is located in the retirement community of Sun City along Del Webb Blvd in Summerlin.\\n\\nLas Vegas has an interesting array of cafés, ranging from the outlandish to the plain old dumpster dive that you would see on Tv getting closed down. Sun City Cafe is neither outlandish nor a a dump. This is your local cafe that mom and pop would come to.\\n\\nThe times that I have come here I've never had a single complaint. The service is always great, the staff have always been friendly and kind. Comparing to cafés cracked egg etc lines are usually non existent, except Maybe on Sunday afternoons, there are quite a few churches in Sun City.\\n\\nThe recommendations from here would be the French Toast, I found it to be quite tasty. General menu items have a variety of options on the menu from Burgers to vegetarian meals. I never did see a stand out or signature dish that screamed off the page but the menu has something for everyone. Decent service, with decent food.\\n\\nOverall \\nPrice: $$\\nFood: 3-5\\nDrink: 3-5\\nCome back: yesSun City Cafe is one of the best spots in Las Vegas. The service is very fast the food is delicious and very creative. You can get all types of genre in food with Sun City Cafe. From healthy vegetarian to meat eating lovers. It has a mix of Spanish food, Asian cuisin,e and of course good ole American burgers. You can never go wrong with Sun City Cafe!LOVE this place! This is hands down my favorite spot for a weekend brunch. With great food, extremely friendly staff, and a pet-friendly patio, this is a weekend staple!Good food, clean, friendly , medium wait  time. Good semi quiet atmosphere. Can't go wrong here. !!Awesome mom and pops joint! Great service! Not to mention the food was amazing. I am a Vegan and they completely customized my meal to cater to my needs. I will definitely be back! Check it out :-)Costco business center food.  Just your very basic breakfast at a decent price.   \n",
       "\n",
       "                            address  \\\n",
       "158380  9320 Sun City Blvd, Ste 101   \n",
       "\n",
       "                                                                                                                                                                                                                                                                                                                                                                                                                                                                                                                                                                                                                                                                                                                                                                                                                                                         attributes  \\\n",
       "158380  {'Alcohol': 'none', 'Ambience': '{'romantic': False, 'intimate': False, 'classy': False, 'hipster': False, 'divey': False, 'touristy': False, 'trendy': False, 'upscale': False, 'casual': True}', 'BikeParking': 'False', 'BusinessAcceptsCreditCards': 'True', 'BusinessParking': '{'garage': False, 'street': False, 'validated': False, 'lot': True, 'valet': False}', 'GoodForKids': 'True', 'GoodForMeal': '{'dessert': False, 'latenight': False, 'lunch': False, 'dinner': False, 'breakfast': True, 'brunch': False}', 'HasTV': 'False', 'NoiseLevel': 'average', 'OutdoorSeating': 'True', 'RestaurantsAttire': 'casual', 'RestaurantsDelivery': 'False', 'RestaurantsGoodForGroups': 'True', 'RestaurantsPriceRange2': '1', 'RestaurantsReservations': 'False', 'RestaurantsTableService': 'True', 'RestaurantsTakeOut': 'True', 'WiFi': 'free'}   \n",
       "\n",
       "                             categories       city hours  is_open   latitude  \\\n",
       "158380  Breakfast & Brunch, Restaurants  Las Vegas  None  0        36.211716   \n",
       "\n",
       "         longitude           name neighborhood postal_code  review_count  \\\n",
       "158380 -115.298329  Sun City Café  Summerlin    89134       23             \n",
       "\n",
       "        stars state  \n",
       "158380  4.0    NV    "
      ]
     },
     "execution_count": 15,
     "metadata": {},
     "output_type": "execute_result"
    }
   ],
   "source": [
    "#overview of merged dataframe\n",
    "review_business_sample.head(1)"
   ]
  },
  {
   "cell_type": "code",
   "execution_count": 16,
   "metadata": {},
   "outputs": [
    {
     "data": {
      "text/plain": [
       "(18859,)"
      ]
     },
     "execution_count": 16,
     "metadata": {},
     "output_type": "execute_result"
    }
   ],
   "source": [
    "#as the review_count has different values it needs to be normalized\n",
    "from scipy.stats import zscore\n",
    "\n",
    "review_count_normalized=zscore(review_business_sample['review_count'])\n",
    "review_count_normalized.shape #normalized review_count"
   ]
  },
  {
   "cell_type": "markdown",
   "metadata": {},
   "source": [
    "## TF-IDF(Term Frequency- Inverse Document Frequency): It is a numerical statistic that is intended to reflect how important a word is in document in a collection. The tf-idf value increases proportionality to the number of times a word appears in the document and is offset by the number of documnets in the corpus that contain the word."
   ]
  },
  {
   "cell_type": "code",
   "execution_count": 17,
   "metadata": {},
   "outputs": [
    {
     "name": "stdout",
     "output_type": "stream",
     "text": [
      "<class 'scipy.sparse.csr.csr_matrix'>\n",
      "[[0.         0.         0.         ... 0.         0.         0.02239041]\n",
      " [0.         0.         0.         ... 0.         0.         0.        ]\n",
      " [0.         0.         0.         ... 0.         0.         0.        ]\n",
      " ...\n",
      " [0.         0.00399828 0.         ... 0.00597962 0.         0.00640026]\n",
      " [0.         0.         0.         ... 0.         0.         0.01978279]\n",
      " [0.         0.         0.         ... 0.         0.         0.        ]]\n"
     ]
    }
   ],
   "source": [
    "#using tf-idf to do feature extraction from review contents for models\n",
    "import sklearn.feature_extraction.text as sk_text\n",
    "vectorizer=sk_text.TfidfVectorizer(stop_words='english',max_features=1000,min_df=2)\n",
    "matrix=vectorizer.fit_transform(review_business_sample['all_reviews'])\n",
    "\n",
    "print(type(matrix))\n",
    "print(matrix.toarray())\n",
    "\n",
    "#print(vectorizer.get_feature_names())"
   ]
  },
  {
   "cell_type": "code",
   "execution_count": 18,
   "metadata": {
    "collapsed": true
   },
   "outputs": [],
   "source": [
    "#converting the matrix to array format\n",
    "tfif_data=matrix.toarray()\n"
   ]
  },
  {
   "cell_type": "code",
   "execution_count": 19,
   "metadata": {},
   "outputs": [
    {
     "data": {
      "text/plain": [
       "(18859, 1000)"
      ]
     },
     "execution_count": 19,
     "metadata": {},
     "output_type": "execute_result"
    }
   ],
   "source": [
    "#know the shape of the previous array\n",
    "tfif_data.shape"
   ]
  },
  {
   "cell_type": "code",
   "execution_count": 20,
   "metadata": {},
   "outputs": [
    {
     "data": {
      "text/plain": [
       "array([[ 0.        ,  0.        ,  0.        , ...,  0.        ,\n",
       "         0.02239041, -0.08720993],\n",
       "       [ 0.        ,  0.        ,  0.        , ...,  0.        ,\n",
       "         0.        , -0.26487099],\n",
       "       [ 0.        ,  0.        ,  0.        , ...,  0.        ,\n",
       "         0.        , -0.29622294],\n",
       "       ...,\n",
       "       [ 0.        ,  0.00399828,  0.        , ...,  0.        ,\n",
       "         0.00640026,  0.22630959],\n",
       "       [ 0.        ,  0.        ,  0.        , ...,  0.        ,\n",
       "         0.01978279, -0.00360472],\n",
       "       [ 0.        ,  0.        ,  0.        , ...,  0.        ,\n",
       "         0.        , -0.29622294]])"
      ]
     },
     "execution_count": 20,
     "metadata": {},
     "output_type": "execute_result"
    }
   ],
   "source": [
    "#merging review_count and tfid_data arrays\n",
    "import numpy as np\n",
    "concat_matrix=np.column_stack((tfif_data,review_count_normalized))\n",
    "concat_matrix"
   ]
  },
  {
   "cell_type": "markdown",
   "metadata": {},
   "source": [
    "## Models"
   ]
  },
  {
   "cell_type": "markdown",
   "metadata": {},
   "source": [
    "## Linear Regression - Regression Model"
   ]
  },
  {
   "cell_type": "code",
   "execution_count": 21,
   "metadata": {},
   "outputs": [
    {
     "name": "stdout",
     "output_type": "stream",
     "text": [
      "(15087, 1001)\n",
      "(3772, 1001)\n"
     ]
    }
   ],
   "source": [
    "#applying linear regression model by giving X as concat matrix and y as stars column\n",
    "\n",
    "# import the class\n",
    "from sklearn.linear_model import LinearRegression\n",
    "from sklearn.model_selection import train_test_split\n",
    "from sklearn import metrics\n",
    "\n",
    "X=concat_matrix\n",
    "y=review_business_sample['stars']\n",
    "\n",
    "#dividing the data in to training and test dataset\n",
    "X_train, X_test, y_train, y_test = train_test_split(X,y,test_size=.2,random_state =1)\n",
    "print(X_train.shape)\n",
    "print(X_test.shape)"
   ]
  },
  {
   "cell_type": "code",
   "execution_count": 57,
   "metadata": {},
   "outputs": [
    {
     "name": "stdout",
     "output_type": "stream",
     "text": [
      "Final score (MSE): 0.2735314297851912\n",
      "Final score (RMSE): 0.5230023229252344\n"
     ]
    }
   ],
   "source": [
    "# instantiate the model (using the default parameters)\n",
    "lr=LinearRegression()\n",
    "\n",
    "# fit the model with data\n",
    "lr.fit(X_train,y_train)\n",
    "\n",
    "pred = lr.predict(X_test)\n",
    "\n",
    "score = metrics.mean_squared_error(pred,y_test)\n",
    "print(\"Final score (MSE): {}\".format(score))\n",
    "\n",
    "# Measure RMSE error.  RMSE is common for regression.\n",
    "score = np.sqrt(metrics.mean_squared_error(pred,y_test))\n",
    "print(\"Final score (RMSE): {}\".format(score))"
   ]
  },
  {
   "cell_type": "markdown",
   "metadata": {},
   "source": [
    "## Classification Models"
   ]
  },
  {
   "cell_type": "code",
   "execution_count": 27,
   "metadata": {
    "collapsed": true
   },
   "outputs": [],
   "source": [
    "import pandas as pd\n",
    "import numpy as np\n",
    "import os , io\n",
    "from sklearn.model_selection import train_test_split\n",
    "from sklearn import preprocessing\n",
    "\n",
    "#one hot encoding on stars column \n",
    "le = preprocessing.LabelEncoder()\n",
    "le.fit(review_business_sample['stars'])\n",
    "\n",
    "list(le.classes_)\n",
    "\n",
    "y = le.transform(review_business_sample['stars'])"
   ]
  },
  {
   "cell_type": "code",
   "execution_count": 28,
   "metadata": {
    "collapsed": true
   },
   "outputs": [],
   "source": [
    "#splitting the data in to training and test datasets\n",
    "X_train, X_test,y_train,y_test = train_test_split(concat_matrix,y,test_size=0.25,random_state=1)"
   ]
  },
  {
   "cell_type": "markdown",
   "metadata": {},
   "source": [
    "## Support Vector Machine Model"
   ]
  },
  {
   "cell_type": "code",
   "execution_count": 29,
   "metadata": {
    "collapsed": true
   },
   "outputs": [],
   "source": [
    "from sklearn.svm import SVC\n",
    "\n",
    "clf = SVC()\n",
    "clf.fit(X_train,y_train)\n",
    "y_pred=clf.predict(X_test)"
   ]
  },
  {
   "cell_type": "code",
   "execution_count": 30,
   "metadata": {},
   "outputs": [
    {
     "name": "stdout",
     "output_type": "stream",
     "text": [
      "Accuracy of SVM on test set: 0.18\n"
     ]
    }
   ],
   "source": [
    "from sklearn import metrics\n",
    "import matplotlib.pyplot as plt\n",
    "print('Accuracy of SVM on test set: {:.2f}'.format(clf.score(X_test, y_test)))"
   ]
  },
  {
   "cell_type": "markdown",
   "metadata": {},
   "source": [
    "## Nearest Neighbors Model"
   ]
  },
  {
   "cell_type": "code",
   "execution_count": 67,
   "metadata": {
    "collapsed": true
   },
   "outputs": [],
   "source": [
    "#knn classfrom sklearn.neighbors import KNeighborsClassifierifier\n",
    "from sklearn.neighbors import KNeighborsClassifier\n",
    "\n",
    "knn = KNeighborsClassifier(n_neighbors=1)\n",
    "knn.fit(X_train, y_train)\n",
    "y_pred = knn.predict(X_test)"
   ]
  },
  {
   "cell_type": "code",
   "execution_count": 68,
   "metadata": {},
   "outputs": [
    {
     "name": "stdout",
     "output_type": "stream",
     "text": [
      "Accuracy of nearest neighbor classifier on test set: 0.28\n"
     ]
    }
   ],
   "source": [
    "from sklearn import metrics\n",
    "print('Accuracy of nearest neighbor classifier on test set: {:.2f}'.format(knn.score(X_test, y_test)))"
   ]
  },
  {
   "cell_type": "markdown",
   "metadata": {},
   "source": [
    "## Logistic Regression Model"
   ]
  },
  {
   "cell_type": "code",
   "execution_count": 63,
   "metadata": {},
   "outputs": [
    {
     "data": {
      "text/plain": [
       "LogisticRegression(C=1.0, class_weight=None, dual=False, fit_intercept=True,\n",
       "          intercept_scaling=1, max_iter=100, multi_class='ovr', n_jobs=1,\n",
       "          penalty='l2', random_state=None, solver='liblinear', tol=0.0001,\n",
       "          verbose=0, warm_start=False)"
      ]
     },
     "execution_count": 63,
     "metadata": {},
     "output_type": "execute_result"
    }
   ],
   "source": [
    "#logistic Regression\n",
    "\n",
    "# import the class\n",
    "from sklearn.linear_model import LogisticRegression\n",
    "\n",
    "# instantiate the model (using the default parameters)\n",
    "logreg = LogisticRegression()\n",
    "\n",
    "# fit the model with data\n",
    "logreg.fit(X_train, y_train)"
   ]
  },
  {
   "cell_type": "code",
   "execution_count": 65,
   "metadata": {},
   "outputs": [
    {
     "name": "stdout",
     "output_type": "stream",
     "text": [
      "Accuracy of logistic regression classifier on test set: 0.40\n"
     ]
    }
   ],
   "source": [
    "from sklearn import metrics\n",
    "y_pred = logreg.predict(X_test)\n",
    "print('Accuracy of logistic regression classifier on test set: {:.2f}'.format(logreg.score(X_test, y_test))) \n"
   ]
  },
  {
   "cell_type": "markdown",
   "metadata": {},
   "source": [
    "## Min-Max Normalization for Multionominal Naive Bayes as it does not take negative values which happens in z-score normalization."
   ]
  },
  {
   "cell_type": "code",
   "execution_count": 70,
   "metadata": {
    "collapsed": true
   },
   "outputs": [],
   "source": [
    "minmax=review_business_sample['review_count'].max()-review_business_sample['review_count'].min()\n",
    "nmn_reviewcount=(review_business_sample['review_count']-review_business_sample['review_count'].min())/minmax\n",
    "nmn_rc_nparray=nmn_reviewcount.values\n",
    "nmn_rc_nparray.shape\n",
    "import numpy as np\n",
    "concat_matrix=np.column_stack((tfif_data,nmn_rc_nparray))\n",
    "X=concat_matrix"
   ]
  },
  {
   "cell_type": "markdown",
   "metadata": {},
   "source": [
    "## Multi-Nominal Naive Bayes Model"
   ]
  },
  {
   "cell_type": "code",
   "execution_count": 71,
   "metadata": {},
   "outputs": [
    {
     "data": {
      "text/plain": [
       "MultinomialNB(alpha=1.0, class_prior=None, fit_prior=True)"
      ]
     },
     "execution_count": 71,
     "metadata": {},
     "output_type": "execute_result"
    }
   ],
   "source": [
    "from sklearn.naive_bayes import MultinomialNB\n",
    "clf=MultinomialNB()\n",
    "X_train,X_test,y_train,y_test= train_test_split(X,y,test_size=0.3,random_state=0)\n",
    "\n",
    "clf.fit(X_train,y_train)\n"
   ]
  },
  {
   "cell_type": "code",
   "execution_count": 72,
   "metadata": {},
   "outputs": [
    {
     "name": "stdout",
     "output_type": "stream",
     "text": [
      "Accuracy of Multinomial on test set: 0.32\n"
     ]
    }
   ],
   "source": [
    "from sklearn.metrics import confusion_matrix\n",
    "from sklearn.metrics import classification_report\n",
    "import matplotlib.pyplot as plt\n",
    "\n",
    "y_pred=clf.predict(X_test)\n",
    "print('Accuracy of Multinomial on test set: {:.2f}'.format(clf.score(X_test, y_test)))"
   ]
  },
  {
   "cell_type": "markdown",
   "metadata": {},
   "source": [
    "## Yelp Business Rating Prediction using Tensor Flow"
   ]
  },
  {
   "cell_type": "code",
   "execution_count": 73,
   "metadata": {},
   "outputs": [
    {
     "name": "stderr",
     "output_type": "stream",
     "text": [
      "/Users/avinashreddy/anaconda3/lib/python3.6/site-packages/h5py/__init__.py:36: FutureWarning: Conversion of the second argument of issubdtype from `float` to `np.floating` is deprecated. In future, it will be treated as `np.float64 == np.dtype(float).type`.\n",
      "  from ._conv import register_converters as _register_converters\n"
     ]
    },
    {
     "name": "stdout",
     "output_type": "stream",
     "text": [
      "Tensor Flow Version: 1.11.0\n"
     ]
    }
   ],
   "source": [
    "import tensorflow as tf\n",
    "print(\"Tensor Flow Version: {}\".format(tf.__version__))"
   ]
  },
  {
   "cell_type": "code",
   "execution_count": 74,
   "metadata": {},
   "outputs": [
    {
     "name": "stderr",
     "output_type": "stream",
     "text": [
      "Using TensorFlow backend.\n"
     ]
    }
   ],
   "source": [
    "import pandas as pd\n",
    "import io\n",
    "import requests\n",
    "import numpy as np\n",
    "import os\n",
    "from sklearn.model_selection import train_test_split\n",
    "from sklearn import preprocessing\n",
    "from sklearn import metrics\n",
    "from keras.models import Sequential\n",
    "from keras.layers.core import Dense, Activation\n",
    "from keras.callbacks import EarlyStopping\n",
    "from keras.callbacks import ModelCheckpoint\n",
    "\n",
    "x=concat_matrix\n",
    "\n",
    "le = preprocessing.LabelEncoder()\n",
    "le.fit(review_business_sample['stars'])\n",
    "\n",
    "list(le.classes_)\n",
    "\n",
    "y = le.transform(review_business_sample['stars'])\n",
    "\n",
    "# Split into train/test\n",
    "x_train, x_test, y_train, y_test = train_test_split(x, y, test_size=0.25, random_state=42)"
   ]
  },
  {
   "cell_type": "markdown",
   "metadata": {},
   "source": [
    "# Tensorflow Regression"
   ]
  },
  {
   "cell_type": "code",
   "execution_count": 75,
   "metadata": {},
   "outputs": [
    {
     "name": "stdout",
     "output_type": "stream",
     "text": [
      "Epoch 1/100\n",
      " - 22s - loss: 5.1411\n",
      "Epoch 2/100\n",
      " - 1s - loss: 1.2170\n",
      "Epoch 3/100\n",
      " - 1s - loss: 1.0568\n",
      "Epoch 4/100\n",
      " - 1s - loss: 1.0013\n",
      "Epoch 5/100\n",
      " - 1s - loss: 0.9167\n",
      "Epoch 6/100\n",
      " - 1s - loss: 0.8254\n",
      "Epoch 7/100\n",
      " - 1s - loss: 0.7559\n",
      "Epoch 8/100\n",
      " - 1s - loss: 0.6939\n",
      "Epoch 9/100\n",
      " - 1s - loss: 0.6362\n",
      "Epoch 10/100\n",
      " - 1s - loss: 0.5842\n",
      "Epoch 11/100\n",
      " - 1s - loss: 0.5342\n",
      "Epoch 12/100\n",
      " - 1s - loss: 0.4953\n",
      "Epoch 13/100\n",
      " - 1s - loss: 0.4596\n",
      "Epoch 14/100\n",
      " - 1s - loss: 0.4307\n",
      "Epoch 15/100\n",
      " - 1s - loss: 0.4088\n",
      "Epoch 16/100\n",
      " - 1s - loss: 0.3881\n",
      "Epoch 17/100\n",
      " - 1s - loss: 0.3711\n",
      "Epoch 18/100\n",
      " - 1s - loss: 0.3531\n",
      "Epoch 19/100\n",
      " - 1s - loss: 0.3384\n",
      "Epoch 20/100\n",
      " - 1s - loss: 0.3272\n",
      "Epoch 21/100\n",
      " - 1s - loss: 0.3128\n",
      "Epoch 22/100\n",
      " - 1s - loss: 0.3035\n",
      "Epoch 23/100\n",
      " - 1s - loss: 0.2915\n",
      "Epoch 24/100\n",
      " - 1s - loss: 0.2815\n",
      "Epoch 25/100\n",
      " - 1s - loss: 0.2729\n",
      "Epoch 26/100\n",
      " - 1s - loss: 0.2667\n",
      "Epoch 27/100\n",
      " - 1s - loss: 0.2576\n",
      "Epoch 28/100\n",
      " - 1s - loss: 0.2484\n",
      "Epoch 29/100\n",
      " - 1s - loss: 0.2433\n",
      "Epoch 30/100\n",
      " - 1s - loss: 0.2373\n",
      "Epoch 31/100\n",
      " - 1s - loss: 0.2322\n",
      "Epoch 32/100\n",
      " - 1s - loss: 0.2247\n",
      "Epoch 33/100\n",
      " - 1s - loss: 0.2179\n",
      "Epoch 34/100\n",
      " - 1s - loss: 0.2121\n",
      "Epoch 35/100\n",
      " - 1s - loss: 0.2091\n",
      "Epoch 36/100\n",
      " - 1s - loss: 0.2048\n",
      "Epoch 37/100\n",
      " - 1s - loss: 0.1989\n",
      "Epoch 38/100\n",
      " - 1s - loss: 0.1972\n",
      "Epoch 39/100\n",
      " - 1s - loss: 0.1939\n",
      "Epoch 40/100\n",
      " - 1s - loss: 0.1885\n",
      "Epoch 41/100\n",
      " - 1s - loss: 0.1856\n",
      "Epoch 42/100\n",
      " - 1s - loss: 0.1827\n",
      "Epoch 43/100\n",
      " - 1s - loss: 0.1806\n",
      "Epoch 44/100\n",
      " - 1s - loss: 0.1758\n",
      "Epoch 45/100\n",
      " - 1s - loss: 0.1731\n",
      "Epoch 46/100\n",
      " - 1s - loss: 0.1711\n",
      "Epoch 47/100\n",
      " - 1s - loss: 0.1685\n",
      "Epoch 48/100\n",
      " - 1s - loss: 0.1656\n",
      "Epoch 49/100\n",
      " - 1s - loss: 0.1618\n",
      "Epoch 50/100\n",
      " - 1s - loss: 0.1602\n",
      "Epoch 51/100\n",
      " - 1s - loss: 0.1587\n",
      "Epoch 52/100\n",
      " - 1s - loss: 0.1565\n",
      "Epoch 53/100\n",
      " - 1s - loss: 0.1539\n",
      "Epoch 54/100\n",
      " - 1s - loss: 0.1521\n",
      "Epoch 55/100\n",
      " - 1s - loss: 0.1488\n",
      "Epoch 56/100\n",
      " - 1s - loss: 0.1471\n",
      "Epoch 57/100\n",
      " - 1s - loss: 0.1466\n",
      "Epoch 58/100\n",
      " - 1s - loss: 0.1447\n",
      "Epoch 59/100\n",
      " - 1s - loss: 0.1429\n",
      "Epoch 60/100\n",
      " - 1s - loss: 0.1393\n",
      "Epoch 61/100\n",
      " - 1s - loss: 0.1399\n",
      "Epoch 62/100\n",
      " - 1s - loss: 0.1370\n",
      "Epoch 63/100\n",
      " - 1s - loss: 0.1353\n",
      "Epoch 64/100\n",
      " - 1s - loss: 0.1337\n",
      "Epoch 65/100\n",
      " - 1s - loss: 0.1314\n",
      "Epoch 66/100\n",
      " - 1s - loss: 0.1316\n",
      "Epoch 67/100\n",
      " - 1s - loss: 0.1308\n",
      "Epoch 68/100\n",
      " - 1s - loss: 0.1289\n",
      "Epoch 69/100\n",
      " - 1s - loss: 0.1258\n",
      "Epoch 70/100\n",
      " - 1s - loss: 0.1228\n",
      "Epoch 71/100\n",
      " - 1s - loss: 0.1232\n",
      "Epoch 72/100\n",
      " - 1s - loss: 0.1224\n",
      "Epoch 73/100\n",
      " - 1s - loss: 0.1194\n",
      "Epoch 74/100\n",
      " - 1s - loss: 0.1184\n",
      "Epoch 75/100\n",
      " - 1s - loss: 0.1180\n",
      "Epoch 76/100\n",
      " - 1s - loss: 0.1161\n",
      "Epoch 77/100\n",
      " - 1s - loss: 0.1141\n",
      "Epoch 78/100\n",
      " - 1s - loss: 0.1146\n",
      "Epoch 79/100\n",
      " - 1s - loss: 0.1149\n",
      "Epoch 80/100\n",
      " - 1s - loss: 0.1088\n",
      "Epoch 81/100\n",
      " - 1s - loss: 0.1102\n",
      "Epoch 82/100\n",
      " - 1s - loss: 0.1085\n",
      "Epoch 83/100\n",
      " - 1s - loss: 0.1082\n",
      "Epoch 84/100\n",
      " - 1s - loss: 0.1078\n",
      "Epoch 85/100\n",
      " - 1s - loss: 0.1060\n",
      "Epoch 86/100\n",
      " - 1s - loss: 0.1034\n",
      "Epoch 87/100\n",
      " - 1s - loss: 0.1024\n",
      "Epoch 88/100\n",
      " - 1s - loss: 0.1020\n",
      "Epoch 89/100\n",
      " - 1s - loss: 0.1008\n",
      "Epoch 90/100\n",
      " - 1s - loss: 0.0996\n",
      "Epoch 91/100\n",
      " - 1s - loss: 0.0981\n",
      "Epoch 92/100\n",
      " - 1s - loss: 0.0991\n",
      "Epoch 93/100\n",
      " - 1s - loss: 0.0974\n",
      "Epoch 94/100\n",
      " - 1s - loss: 0.0946\n",
      "Epoch 95/100\n",
      " - 1s - loss: 0.0950\n",
      "Epoch 96/100\n",
      " - 1s - loss: 0.0929\n",
      "Epoch 97/100\n",
      " - 1s - loss: 0.0921\n",
      "Epoch 98/100\n",
      " - 1s - loss: 0.0922\n",
      "Epoch 99/100\n",
      " - 1s - loss: 0.0904\n",
      "Epoch 100/100\n",
      " - 1s - loss: 0.0892\n",
      "Shape: (18859, 1)\n",
      "[[2.3113234]\n",
      " [6.88338  ]\n",
      " [5.08573  ]\n",
      " ...\n",
      " [4.282383 ]\n",
      " [4.1208673]\n",
      " [1.8809254]]\n",
      "Final score (RMSE): 0.28417514161669044\n"
     ]
    }
   ],
   "source": [
    "from keras.models import Sequential\n",
    "from keras.layers.core import Dense, Activation\n",
    "import pandas as pd\n",
    "import io\n",
    "import requests\n",
    "import numpy as np\n",
    "from sklearn import metrics\n",
    "\n",
    "model = Sequential()\n",
    "\n",
    "model.add(Dense(25, input_dim=x.shape[1], activation='relu')) # Hidden 1     #  why input_dim=x.shape[1]?  \n",
    "model.add(Dense(10, activation='relu')) # Hidden 2\n",
    "model.add(Dense(1)) # Output\n",
    "\n",
    "model.compile(loss='mean_squared_error', optimizer='adam')\n",
    "\n",
    "model.fit(x,y,verbose=2,epochs=100)    # Verbosity mode. 0 = silent, 1 = progress bar, 2 = one line per epoch.\n",
    "\n",
    "pred = model.predict(x)\n",
    "print(\"Shape: {}\".format(pred.shape))\n",
    "print(pred)\n",
    "\n",
    "# Measure RMSE error.  RMSE is common for regression.\n",
    "score = np.sqrt(metrics.mean_squared_error(pred,y))\n",
    "print(\"Final score (RMSE): {}\".format(score))"
   ]
  },
  {
   "cell_type": "code",
   "execution_count": 79,
   "metadata": {},
   "outputs": [
    {
     "name": "stdout",
     "output_type": "stream",
     "text": [
      "0\n",
      "Train on 14144 samples, validate on 4715 samples\n",
      "Epoch 1/100\n",
      " - 18s - loss: 2.2930 - val_loss: 1.2893\n",
      "Epoch 2/100\n",
      " - 1s - loss: 1.0313 - val_loss: 1.1105\n",
      "Epoch 3/100\n",
      " - 1s - loss: 0.8669 - val_loss: 1.0184\n",
      "Epoch 4/100\n",
      " - 1s - loss: 0.7490 - val_loss: 1.0960\n",
      "Epoch 5/100\n",
      " - 1s - loss: 0.6400 - val_loss: 1.0628\n",
      "Epoch 6/100\n",
      " - 1s - loss: 0.5486 - val_loss: 1.0629\n",
      "Epoch 7/100\n",
      " - 1s - loss: 0.4600 - val_loss: 1.1529\n",
      "Epoch 8/100\n",
      " - 1s - loss: 0.3829 - val_loss: 1.1153\n",
      "Epoch 00008: early stopping\n",
      "1\n",
      "Train on 14144 samples, validate on 4715 samples\n",
      "Epoch 1/100\n",
      " - 11s - loss: 2.2992 - val_loss: 1.7150\n",
      "Epoch 2/100\n",
      " - 1s - loss: 1.0152 - val_loss: 1.0788\n",
      "Epoch 3/100\n",
      " - 1s - loss: 0.8585 - val_loss: 1.1452\n",
      "Epoch 4/100\n",
      " - 1s - loss: 0.7414 - val_loss: 1.2899\n",
      "Epoch 5/100\n",
      " - 1s - loss: 0.6383 - val_loss: 1.0270\n",
      "Epoch 6/100\n",
      " - 1s - loss: 0.5323 - val_loss: 1.0560\n",
      "Epoch 7/100\n",
      " - 1s - loss: 0.4374 - val_loss: 1.0762\n",
      "Epoch 8/100\n",
      " - 1s - loss: 0.3632 - val_loss: 1.1083\n",
      "Epoch 9/100\n",
      " - 1s - loss: 0.3089 - val_loss: 1.2085\n",
      "Epoch 10/100\n",
      " - 1s - loss: 0.2578 - val_loss: 1.1480\n",
      "Epoch 00010: early stopping\n",
      "2\n",
      "Train on 14144 samples, validate on 4715 samples\n",
      "Epoch 1/100\n",
      " - 7s - loss: 2.1910 - val_loss: 1.2142\n",
      "Epoch 2/100\n",
      " - 1s - loss: 0.9931 - val_loss: 1.0296\n",
      "Epoch 3/100\n",
      " - 1s - loss: 0.8565 - val_loss: 1.1302\n",
      "Epoch 4/100\n",
      " - 1s - loss: 0.7559 - val_loss: 1.2452\n",
      "Epoch 5/100\n",
      " - 1s - loss: 0.6683 - val_loss: 1.1055\n",
      "Epoch 6/100\n",
      " - 1s - loss: 0.5655 - val_loss: 1.1627\n",
      "Epoch 7/100\n",
      " - 1s - loss: 0.4754 - val_loss: 1.0772\n",
      "Epoch 00007: early stopping\n",
      "3\n",
      "Train on 14144 samples, validate on 4715 samples\n",
      "Epoch 1/100\n",
      " - 3s - loss: 2.3515 - val_loss: 1.1581\n",
      "Epoch 2/100\n",
      " - 1s - loss: 1.0175 - val_loss: 1.0549\n",
      "Epoch 3/100\n",
      " - 1s - loss: 0.8568 - val_loss: 1.0252\n",
      "Epoch 4/100\n",
      " - 1s - loss: 0.7430 - val_loss: 1.0563\n",
      "Epoch 5/100\n",
      " - 1s - loss: 0.6327 - val_loss: 0.9956\n",
      "Epoch 6/100\n",
      " - 1s - loss: 0.5275 - val_loss: 1.1055\n",
      "Epoch 7/100\n",
      " - 1s - loss: 0.4351 - val_loss: 1.0891\n",
      "Epoch 8/100\n",
      " - 1s - loss: 0.3572 - val_loss: 1.0907\n",
      "Epoch 9/100\n",
      " - 1s - loss: 0.3015 - val_loss: 1.1111\n",
      "Epoch 10/100\n",
      " - 1s - loss: 0.2528 - val_loss: 1.1859\n",
      "Epoch 00010: early stopping\n",
      "4\n",
      "Train on 14144 samples, validate on 4715 samples\n",
      "Epoch 1/100\n",
      " - 3s - loss: 2.3233 - val_loss: 1.1627\n",
      "Epoch 2/100\n",
      " - 1s - loss: 1.0115 - val_loss: 1.3276\n",
      "Epoch 3/100\n",
      " - 1s - loss: 0.8679 - val_loss: 1.0464\n",
      "Epoch 4/100\n",
      " - 1s - loss: 0.7636 - val_loss: 1.0035\n",
      "Epoch 5/100\n",
      " - 1s - loss: 0.6678 - val_loss: 1.0021\n",
      "Epoch 6/100\n",
      " - 1s - loss: 0.5723 - val_loss: 1.0154\n",
      "Epoch 7/100\n",
      " - 1s - loss: 0.4887 - val_loss: 1.1718\n",
      "Epoch 8/100\n",
      " - 1s - loss: 0.4105 - val_loss: 1.0977\n",
      "Epoch 9/100\n",
      " - 1s - loss: 0.3498 - val_loss: 1.1855\n",
      "Epoch 10/100\n",
      " - 1s - loss: 0.3008 - val_loss: 1.1702\n",
      "Epoch 00010: early stopping\n",
      "Training finished...Loading the best model\n",
      "\n",
      "Final score (MSE): 0.9955689407188237\n",
      "Final score (RMSE): 0.9977820106209692\n"
     ]
    }
   ],
   "source": [
    "# Define ModelCheckpoint outside the loop\n",
    "checkpointer = ModelCheckpoint(filepath=\"/Users/ravalik/Desktop/215/best_weight1.hdf5\", verbose=0, save_best_only=True) # save best model\n",
    "\n",
    "for i in range(5):\n",
    "    print(i)\n",
    "\n",
    "    # Build network\n",
    "    model = Sequential()\n",
    "    model.add(Dense(100, input_dim=x.shape[1], activation='relu'))\n",
    "    model.add(Dense(50, activation='relu'))\n",
    "    model.add(Dense(50, activation='relu'))\n",
    "    model.add(Dense(1)) # Output\n",
    "\n",
    "    model.compile(loss='mean_squared_error', optimizer='rmsprop')\n",
    "\n",
    "    monitor = EarlyStopping(monitor='val_loss', min_delta=1e-3, patience=5, verbose=1, mode='auto')\n",
    "\n",
    "    model.fit(x_train,y_train,validation_data=(x_test,y_test),callbacks=[monitor,checkpointer],verbose=2,epochs=100)\n",
    "\n",
    "\n",
    "print('Training finished...Loading the best model')  \n",
    "print()\n",
    "model.load_weights(\"/Users/ravalik/Desktop/215/best_weight1.hdf5\") # load weights from best model\n",
    "\n",
    "# Predict\n",
    "pred = model.predict(x_test)\n",
    "\n",
    "# Measure MSE error.  \n",
    "score = metrics.mean_squared_error(pred,y_test)\n",
    "print(\"Final score (MSE): {}\".format(score))\n",
    "\n",
    "# Measure RMSE error.  RMSE is common for regression.\n",
    "score = np.sqrt(metrics.mean_squared_error(pred,y_test))\n",
    "print(\"Final score (RMSE): {}\".format(score))\n",
    "\n"
   ]
  },
  {
   "cell_type": "markdown",
   "metadata": {},
   "source": [
    "## Tensor Flow Classification"
   ]
  },
  {
   "cell_type": "code",
   "execution_count": 80,
   "metadata": {
    "collapsed": true
   },
   "outputs": [],
   "source": [
    "import pandas as pd\n",
    "import io , os\n",
    "import requests\n",
    "import numpy as np\n",
    "from sklearn import metrics\n",
    "from keras.models import Sequential\n",
    "from keras.layers.core import Dense, Activation\n",
    "from keras.callbacks import EarlyStopping\n",
    "from sklearn import preprocessing\n",
    "\n",
    "le1 = preprocessing.LabelEncoder()\n",
    "le1.fit(review_business_sample['stars'])\n",
    "\n",
    "list(le1.classes_)\n",
    "y1=le1.transform(review_business_sample['stars'])\n"
   ]
  },
  {
   "cell_type": "code",
   "execution_count": 81,
   "metadata": {},
   "outputs": [
    {
     "name": "stdout",
     "output_type": "stream",
     "text": [
      "Index(['business_id', 'all_reviews', 'address', 'attributes', 'categories',\n",
      "       'city', 'hours', 'is_open', 'latitude', 'longitude', 'name',\n",
      "       'neighborhood', 'postal_code', 'review_count', 'state', 'stars-1.0',\n",
      "       'stars-1.5', 'stars-2.0', 'stars-2.5', 'stars-3.0', 'stars-3.5',\n",
      "       'stars-4.0', 'stars-4.5', 'stars-5.0'],\n",
      "      dtype='object')\n"
     ]
    }
   ],
   "source": [
    "# Encode text values to dummy variables(i.e. [1,0,0],[0,1,0],[0,0,1] for red,green,blue)\n",
    "def encode_text_dummy(df, name):\n",
    "    dummies = pd.get_dummies(df[name])\n",
    "    for x in dummies.columns:\n",
    "        dummy_name = \"{}-{}\".format(name, x)\n",
    "        df[dummy_name] = dummies[x]\n",
    "    df.drop(name, axis=1, inplace=True)\n",
    "\n",
    "\n",
    "y1= encode_text_dummy(review_business_sample,\"stars\")   #one-hot coding\n",
    "y1= review_business_sample\n",
    "print(y1.columns)"
   ]
  },
  {
   "cell_type": "code",
   "execution_count": 82,
   "metadata": {},
   "outputs": [
    {
     "data": {
      "text/plain": [
       "array([[0, 0, 1, ..., 0, 0, 0],\n",
       "       [0, 0, 0, ..., 0, 1, 0],\n",
       "       [0, 0, 0, ..., 0, 0, 0],\n",
       "       ...,\n",
       "       [0, 0, 0, ..., 0, 0, 0],\n",
       "       [0, 0, 0, ..., 0, 0, 0],\n",
       "       [0, 0, 1, ..., 0, 0, 0]], dtype=uint8)"
      ]
     },
     "execution_count": 82,
     "metadata": {},
     "output_type": "execute_result"
    }
   ],
   "source": [
    "y1=y1[['stars-1.0', 'stars-1.5','stars-2.0', 'stars-2.5', 'stars-3.0', 'stars-3.5', 'stars-4.0','stars-4.5', 'stars-5.0']]\n",
    "y1=y1.values\n",
    "type(y1)\n",
    "y1"
   ]
  },
  {
   "cell_type": "code",
   "execution_count": 83,
   "metadata": {},
   "outputs": [
    {
     "name": "stdout",
     "output_type": "stream",
     "text": [
      "0\n",
      "Train on 14144 samples, validate on 4715 samples\n",
      "Epoch 1/100\n",
      " - 15s - loss: 1.8527 - val_loss: 1.5115\n",
      "Epoch 2/100\n",
      " - 1s - loss: 1.3658 - val_loss: 1.3322\n",
      "Epoch 3/100\n",
      " - 1s - loss: 1.2422 - val_loss: 1.2760\n",
      "Epoch 4/100\n",
      " - 1s - loss: 1.1797 - val_loss: 1.2623\n",
      "Epoch 5/100\n",
      " - 1s - loss: 1.1416 - val_loss: 1.2508\n",
      "Epoch 6/100\n",
      " - 1s - loss: 1.1150 - val_loss: 1.2512\n",
      "Epoch 7/100\n",
      " - 1s - loss: 1.0937 - val_loss: 1.2529\n",
      "Epoch 8/100\n",
      " - 1s - loss: 1.0773 - val_loss: 1.2564\n",
      "Epoch 9/100\n",
      " - 1s - loss: 1.0595 - val_loss: 1.2573\n",
      "Epoch 10/100\n",
      " - 1s - loss: 1.0434 - val_loss: 1.2647\n",
      "Epoch 00010: early stopping\n",
      "1\n",
      "Train on 14144 samples, validate on 4715 samples\n",
      "Epoch 1/100\n",
      " - 6s - loss: 1.7525 - val_loss: 1.4384\n",
      "Epoch 2/100\n",
      " - 1s - loss: 1.3261 - val_loss: 1.3038\n",
      "Epoch 3/100\n",
      " - 1s - loss: 1.2185 - val_loss: 1.2652\n",
      "Epoch 4/100\n",
      " - 1s - loss: 1.1664 - val_loss: 1.2472\n",
      "Epoch 5/100\n",
      " - 1s - loss: 1.1273 - val_loss: 1.2433\n",
      "Epoch 6/100\n",
      " - 1s - loss: 1.1016 - val_loss: 1.2539\n",
      "Epoch 7/100\n",
      " - 1s - loss: 1.0736 - val_loss: 1.2494\n",
      "Epoch 8/100\n",
      " - 1s - loss: 1.0513 - val_loss: 1.2614\n",
      "Epoch 9/100\n",
      " - 1s - loss: 1.0309 - val_loss: 1.2781\n",
      "Epoch 10/100\n",
      " - 1s - loss: 1.0129 - val_loss: 1.2788\n",
      "Epoch 00010: early stopping\n",
      "2\n",
      "Train on 14144 samples, validate on 4715 samples\n",
      "Epoch 1/100\n",
      " - 2s - loss: 1.7862 - val_loss: 1.4008\n",
      "Epoch 2/100\n",
      " - 1s - loss: 1.2699 - val_loss: 1.2573\n",
      "Epoch 3/100\n",
      " - 1s - loss: 1.1765 - val_loss: 1.2454\n",
      "Epoch 4/100\n",
      " - 1s - loss: 1.1407 - val_loss: 1.2356\n",
      "Epoch 5/100\n",
      " - 1s - loss: 1.1176 - val_loss: 1.2343\n",
      "Epoch 6/100\n",
      " - 1s - loss: 1.0957 - val_loss: 1.2360\n",
      "Epoch 7/100\n",
      " - 1s - loss: 1.0791 - val_loss: 1.2485\n",
      "Epoch 8/100\n",
      " - 1s - loss: 1.0671 - val_loss: 1.2510\n",
      "Epoch 9/100\n",
      " - 1s - loss: 1.0494 - val_loss: 1.2707\n",
      "Epoch 10/100\n",
      " - 1s - loss: 1.0384 - val_loss: 1.2808\n",
      "Epoch 00010: early stopping\n",
      "3\n",
      "Train on 14144 samples, validate on 4715 samples\n",
      "Epoch 1/100\n",
      " - 2s - loss: 1.7905 - val_loss: 1.4814\n",
      "Epoch 2/100\n",
      " - 1s - loss: 1.3462 - val_loss: 1.3062\n",
      "Epoch 3/100\n",
      " - 1s - loss: 1.2253 - val_loss: 1.2693\n",
      "Epoch 4/100\n",
      " - 1s - loss: 1.1724 - val_loss: 1.2502\n",
      "Epoch 5/100\n",
      " - 1s - loss: 1.1409 - val_loss: 1.2578\n",
      "Epoch 6/100\n",
      " - 1s - loss: 1.1144 - val_loss: 1.2617\n",
      "Epoch 7/100\n",
      " - 1s - loss: 1.0908 - val_loss: 1.2568\n",
      "Epoch 8/100\n",
      " - 1s - loss: 1.0710 - val_loss: 1.2659\n",
      "Epoch 9/100\n",
      " - 1s - loss: 1.0540 - val_loss: 1.2768\n",
      "Epoch 00009: early stopping\n",
      "4\n",
      "Train on 14144 samples, validate on 4715 samples\n",
      "Epoch 1/100\n",
      " - 2s - loss: 1.6859 - val_loss: 1.3473\n",
      "Epoch 2/100\n",
      " - 1s - loss: 1.2499 - val_loss: 1.2472\n",
      "Epoch 3/100\n",
      " - 1s - loss: 1.1754 - val_loss: 1.2348\n",
      "Epoch 4/100\n",
      " - 1s - loss: 1.1414 - val_loss: 1.2289\n",
      "Epoch 5/100\n",
      " - 1s - loss: 1.1187 - val_loss: 1.2323\n",
      "Epoch 6/100\n",
      " - 1s - loss: 1.1012 - val_loss: 1.2382\n",
      "Epoch 7/100\n",
      " - 1s - loss: 1.0828 - val_loss: 1.2422\n",
      "Epoch 8/100\n",
      " - 1s - loss: 1.0685 - val_loss: 1.2501\n",
      "Epoch 9/100\n",
      " - 1s - loss: 1.0545 - val_loss: 1.2560\n",
      "Epoch 00009: early stopping\n",
      "Training finished...Loading the best model\n",
      "\n",
      "Final accuracy: 0.4973488865323436\n"
     ]
    }
   ],
   "source": [
    "# Split into train/test\n",
    "x_train, x_test, y_train, y_test = train_test_split(x, y1, test_size=0.25, random_state=42)\n",
    "\n",
    "\n",
    "# Define ModelCheckpoint outside the loop\n",
    "checkpointer = ModelCheckpoint(filepath=\"/Users/ravalik/Desktop/215/best_weights1.hdf5\", verbose=0, save_best_only=True) # save best model\n",
    "\n",
    "for i in range(5):\n",
    "    print(i)\n",
    "\n",
    "    # Build network\n",
    "    model = Sequential()\n",
    "    model.add(Dense(20, input_dim=x.shape[1], activation='relu'))\n",
    "    model.add(Dense(10, activation='relu'))\n",
    "    model.add(Dense(10, activation='relu'))\n",
    "    model.add(Dense(y1.shape[1], activation='softmax'))\n",
    "    model.compile(loss='categorical_crossentropy', optimizer='adam')\n",
    "\n",
    "    monitor = EarlyStopping(monitor='val_loss', min_delta=1e-3, patience=5, verbose=1, mode='auto')\n",
    "\n",
    "    model.fit(x_train,y_train,validation_data=(x_test,y_test),callbacks=[monitor,checkpointer],verbose=2,epochs=100)\n",
    "\n",
    "\n",
    "print('Training finished...Loading the best model')  \n",
    "print()\n",
    "model.load_weights(\"/Users/ravalik/Desktop/215/best_weights1.hdf5\",) # load weights from best model\n",
    "\n",
    "# Measure accuracy\n",
    "pred = model.predict(x_test)\n",
    "pred = np.argmax(pred,axis=1)\n",
    "\n",
    "y_true = np.argmax(y_test,axis=1)\n",
    "\n",
    "score = metrics.accuracy_score(y_true, pred)\n",
    "print(\"Final accuracy: {}\".format(score))"
   ]
  },
  {
   "cell_type": "markdown",
   "metadata": {},
   "source": [
    "# Final Results"
   ]
  },
  {
   "cell_type": "markdown",
   "metadata": {},
   "source": [
    "# Linear Regression Model = 52.3%\n",
    "# Support Vector Machine Model = 18%\n",
    "# Nearest neighbors Model = 28%\n",
    "# Logistic Regression = 40%\n",
    "# Multinominal Naive Bayes = 32 %\n",
    "# Tensor Flow Regression = 99.78%\n",
    "# Tensor Flow Classification = 49.73%\n"
   ]
  },
  {
   "cell_type": "code",
   "execution_count": null,
   "metadata": {
    "collapsed": true
   },
   "outputs": [],
   "source": []
  }
 ],
 "metadata": {
  "kernelspec": {
   "display_name": "Python 3",
   "language": "python",
   "name": "python3"
  },
  "language_info": {
   "codemirror_mode": {
    "name": "ipython",
    "version": 3
   },
   "file_extension": ".py",
   "mimetype": "text/x-python",
   "name": "python",
   "nbconvert_exporter": "python",
   "pygments_lexer": "ipython3",
   "version": "3.6.3"
  }
 },
 "nbformat": 4,
 "nbformat_minor": 2
}
